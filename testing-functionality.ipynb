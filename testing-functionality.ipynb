{
 "cells": [
  {
   "cell_type": "code",
   "execution_count": 2,
   "metadata": {},
   "outputs": [
    {
     "data": {
      "text/plain": [
       "ChatPromptTemplate(input_variables=['helper_response', 'input'], optional_variables=['messages'], input_types={'messages': typing.List[typing.Union[langchain_core.messages.ai.AIMessage, langchain_core.messages.human.HumanMessage, langchain_core.messages.chat.ChatMessage, langchain_core.messages.system.SystemMessage, langchain_core.messages.function.FunctionMessage, langchain_core.messages.tool.ToolMessage]]}, partial_variables={'messages': []}, messages=[SystemMessagePromptTemplate(prompt=PromptTemplate(input_variables=['helper_response'], template='Think through your response step by step. {helper_response}')), MessagesPlaceholder(variable_name='messages', optional=True), HumanMessagePromptTemplate(prompt=PromptTemplate(input_variables=['input'], template='{input}'))])\n",
       "| ChatGroq(client=<groq.resources.chat.completions.Completions object at 0x7eb40903cbd0>, async_client=<groq.resources.chat.completions.AsyncCompletions object at 0x7eb40a1de510>, model_name='llama3-8b-8192', groq_api_key=SecretStr('**********'))\n",
       "| StrOutputParser()"
      ]
     },
     "execution_count": 2,
     "metadata": {},
     "output_type": "execute_result"
    }
   ],
   "source": [
    "from langchain.prompts import ChatPromptTemplate, MessagesPlaceholder\n",
    "from langchain_groq import ChatGroq\n",
    "from langchain_core.output_parsers import StrOutputParser\n",
    "\n",
    "system_prompt = \"Think through your response step by step. {helper_response}\"\n",
    "model_name = \"llama3-8b-8192\"\n",
    "llm_kwargs = {}\n",
    "\n",
    "prompt = ChatPromptTemplate.from_messages([\n",
    "    (\"system\", system_prompt),\n",
    "    MessagesPlaceholder(variable_name=\"messages\", optional=True),\n",
    "    (\"human\", \"{input}\")\n",
    "])\n",
    "\n",
    "assert 'helper_response' in prompt.input_variables\n",
    "llm = ChatGroq(model=model_name, **llm_kwargs)\n",
    "\n",
    "chain = prompt | llm | StrOutputParser()\n",
    "chain"
   ]
  },
  {
   "cell_type": "code",
   "execution_count": 8,
   "metadata": {},
   "outputs": [
    {
     "name": "stdout",
     "output_type": "stream",
     "text": [
      "first=ChatPromptTemplate(input_variables=['helper_response', 'input'], optional_variables=['messages'], input_types={'messages': typing.List[typing.Union[langchain_core.messages.ai.AIMessage, langchain_core.messages.human.HumanMessage, langchain_core.messages.chat.ChatMessage, langchain_core.messages.system.SystemMessage, langchain_core.messages.function.FunctionMessage, langchain_core.messages.tool.ToolMessage]]}, partial_variables={'messages': []}, messages=[SystemMessagePromptTemplate(prompt=PromptTemplate(input_variables=['helper_response'], template='You are a personal assistant that is helpful.\\n\\n{helper_response}')), MessagesPlaceholder(variable_name='messages', optional=True), HumanMessagePromptTemplate(prompt=PromptTemplate(input_variables=['input'], template='{input}'))]) middle=[ChatGroq(client=<groq.resources.chat.completions.Completions object at 0x7eb408fcdb90>, async_client=<groq.resources.chat.completions.AsyncCompletions object at 0x7eb408fcf510>, model_name='llama3-8b-8192', groq_api_key=SecretStr('**********'))] last=StrOutputParser()\n",
      "first=ChatPromptTemplate(input_variables=['helper_response', 'input'], optional_variables=['messages'], input_types={'messages': typing.List[typing.Union[langchain_core.messages.ai.AIMessage, langchain_core.messages.human.HumanMessage, langchain_core.messages.chat.ChatMessage, langchain_core.messages.system.SystemMessage, langchain_core.messages.function.FunctionMessage, langchain_core.messages.tool.ToolMessage]]}, partial_variables={'messages': []}, messages=[SystemMessagePromptTemplate(prompt=PromptTemplate(input_variables=['helper_response'], template='You are a personal assistant that is helpful.\\n\\n{helper_response}')), MessagesPlaceholder(variable_name='messages', optional=True), HumanMessagePromptTemplate(prompt=PromptTemplate(input_variables=['input'], template='{input}'))]) middle=[ChatGroq(client=<groq.resources.chat.completions.Completions object at 0x7eb408fa9310>, async_client=<groq.resources.chat.completions.AsyncCompletions object at 0x7eb408faa810>, model_name='gemma-7b-it', groq_api_key=SecretStr('**********'))] last=StrOutputParser()\n",
      "first=ChatPromptTemplate(input_variables=['helper_response', 'input'], optional_variables=['messages'], input_types={'messages': typing.List[typing.Union[langchain_core.messages.ai.AIMessage, langchain_core.messages.human.HumanMessage, langchain_core.messages.chat.ChatMessage, langchain_core.messages.system.SystemMessage, langchain_core.messages.function.FunctionMessage, langchain_core.messages.tool.ToolMessage]]}, partial_variables={'messages': []}, messages=[SystemMessagePromptTemplate(prompt=PromptTemplate(input_variables=['helper_response'], template='You are a personal assistant that is helpful.\\n\\n{helper_response}')), MessagesPlaceholder(variable_name='messages', optional=True), HumanMessagePromptTemplate(prompt=PromptTemplate(input_variables=['input'], template='{input}'))]) middle=[ChatGroq(client=<groq.resources.chat.completions.Completions object at 0x7eb408fdcbd0>, async_client=<groq.resources.chat.completions.AsyncCompletions object at 0x7eb408fde410>, groq_api_key=SecretStr('**********'))] last=StrOutputParser()\n"
     ]
    }
   ],
   "source": [
    "from langchain_core.runnables import RunnablePassthrough, RunnableLambda, RunnableSerializable\n",
    "# from langchain_core.output_parsers import StrOutputParser\n",
    "\n",
    "from moa.agent.prompts import SYSTEM_PROMPT, REFERENCE_SYSTEM_PROMPT\n",
    "from moa.agent.moa import MOAgent\n",
    "# if not layer_agent_config:\n",
    "layer_agent_config = {\n",
    "    'layer_agent_1' : {'system_prompt': SYSTEM_PROMPT, 'model_name': 'llama3-8b-8192'},\n",
    "    'layer_agent_2' : {'system_prompt': SYSTEM_PROMPT, 'model_name': 'gemma-7b-it'},\n",
    "    'layer_agent_3' : {'system_prompt': SYSTEM_PROMPT, 'model_name': 'mixtral-8x7b-32768'}\n",
    "}\n",
    "\n",
    "parallel_chain_map = dict()\n",
    "for key, value in layer_agent_config.items():\n",
    "    chain = MOAgent._create_agent_from_system_prompt(\n",
    "        system_prompt=value.pop(\"system_prompt\", SYSTEM_PROMPT), \n",
    "        model_name=value.pop(\"model_name\", 'llama3-8b-8192'),\n",
    "        **value\n",
    "    )\n",
    "    parallel_chain_map[key] = RunnablePassthrough() | chain\n",
    "\n",
    "    # chain = parallel_chain_map | RunnableLambda(MOAgent.concat_response)\n",
    "    # chain\n",
    "    print(chain)"
   ]
  },
  {
   "cell_type": "code",
   "execution_count": 7,
   "metadata": {},
   "outputs": [
    {
     "name": "stdout",
     "output_type": "stream",
     "text": [
      "{'layer_agent_1': RunnablePassthrough()\n",
      "| ChatPromptTemplate(input_variables=['helper_response', 'input'], optional_variables=['messages'], input_types={'messages': typing.List[typing.Union[langchain_core.messages.ai.AIMessage, langchain_core.messages.human.HumanMessage, langchain_core.messages.chat.ChatMessage, langchain_core.messages.system.SystemMessage, langchain_core.messages.function.FunctionMessage, langchain_core.messages.tool.ToolMessage]]}, partial_variables={'messages': []}, messages=[SystemMessagePromptTemplate(prompt=PromptTemplate(input_variables=['helper_response'], template='You are a personal assistant that is helpful.\\n\\n{helper_response}')), MessagesPlaceholder(variable_name='messages', optional=True), HumanMessagePromptTemplate(prompt=PromptTemplate(input_variables=['input'], template='{input}'))])\n",
      "| ChatGroq(client=<groq.resources.chat.completions.Completions object at 0x7eb40a514310>, async_client=<groq.resources.chat.completions.AsyncCompletions object at 0x7eb40a50b910>, model_name='llama3-8b-8192', groq_api_key=SecretStr('**********'))\n",
      "| StrOutputParser(), 'layer_agent_2': RunnablePassthrough()\n",
      "| ChatPromptTemplate(input_variables=['helper_response', 'input'], optional_variables=['messages'], input_types={'messages': typing.List[typing.Union[langchain_core.messages.ai.AIMessage, langchain_core.messages.human.HumanMessage, langchain_core.messages.chat.ChatMessage, langchain_core.messages.system.SystemMessage, langchain_core.messages.function.FunctionMessage, langchain_core.messages.tool.ToolMessage]]}, partial_variables={'messages': []}, messages=[SystemMessagePromptTemplate(prompt=PromptTemplate(input_variables=['helper_response'], template='You are a personal assistant that is helpful.\\n\\n{helper_response}')), MessagesPlaceholder(variable_name='messages', optional=True), HumanMessagePromptTemplate(prompt=PromptTemplate(input_variables=['input'], template='{input}'))])\n",
      "| ChatGroq(client=<groq.resources.chat.completions.Completions object at 0x7eb40a509c10>, async_client=<groq.resources.chat.completions.AsyncCompletions object at 0x7eb408f6b750>, model_name='gemma-7b-it', groq_api_key=SecretStr('**********'))\n",
      "| StrOutputParser(), 'layer_agent_3': RunnablePassthrough()\n",
      "| ChatPromptTemplate(input_variables=['helper_response', 'input'], optional_variables=['messages'], input_types={'messages': typing.List[typing.Union[langchain_core.messages.ai.AIMessage, langchain_core.messages.human.HumanMessage, langchain_core.messages.chat.ChatMessage, langchain_core.messages.system.SystemMessage, langchain_core.messages.function.FunctionMessage, langchain_core.messages.tool.ToolMessage]]}, partial_variables={'messages': []}, messages=[SystemMessagePromptTemplate(prompt=PromptTemplate(input_variables=['helper_response'], template='You are a personal assistant that is helpful.\\n\\n{helper_response}')), MessagesPlaceholder(variable_name='messages', optional=True), HumanMessagePromptTemplate(prompt=PromptTemplate(input_variables=['input'], template='{input}'))])\n",
      "| ChatGroq(client=<groq.resources.chat.completions.Completions object at 0x7eb408fc1450>, async_client=<groq.resources.chat.completions.AsyncCompletions object at 0x7eb408fc2f10>, groq_api_key=SecretStr('**********'))\n",
      "| StrOutputParser()}\n"
     ]
    }
   ],
   "source": [
    "print(parallel_chain_map)"
   ]
  },
  {
   "cell_type": "code",
   "execution_count": 5,
   "metadata": {},
   "outputs": [
    {
     "name": "stdout",
     "output_type": "stream",
     "text": [
      "first={\n",
      "  layer_agent_1: RunnablePassthrough()\n",
      "                 | ChatPromptTemplate(input_variables=['helper_response', 'input'], optional_variables=['messages'], input_types={'messages': typing.List[typing.Union[langchain_core.messages.ai.AIMessage, langchain_core.messages.human.HumanMessage, langchain_core.messages.chat.ChatMessage, langchain_core.messages.system.SystemMessage, langchain_core.messages.function.FunctionMessage, langchain_core.messages.tool.ToolMessage]]}, partial_variables={'messages': []}, messages=[SystemMessagePromptTemplate(prompt=PromptTemplate(input_variables=['helper_response'], template='You are a personal assistant that is helpful.\\n\\n{helper_response}')), MessagesPlaceholder(variable_name='messages', optional=True), HumanMessagePromptTemplate(prompt=PromptTemplate(input_variables=['input'], template='{input}'))])\n",
      "                 | ChatGroq(client=<groq.resources.chat.completions.Completions object at 0x7eb40904e450>, async_client=<groq.resources.chat.completions.AsyncCompletions object at 0x7eb409055490>, model_name='llama3-8b-8192', groq_api_key=SecretStr('**********'))\n",
      "                 | StrOutputParser(),\n",
      "  layer_agent_2: RunnablePassthrough()\n",
      "                 | ChatPromptTemplate(input_variables=['helper_response', 'input'], optional_variables=['messages'], input_types={'messages': typing.List[typing.Union[langchain_core.messages.ai.AIMessage, langchain_core.messages.human.HumanMessage, langchain_core.messages.chat.ChatMessage, langchain_core.messages.system.SystemMessage, langchain_core.messages.function.FunctionMessage, langchain_core.messages.tool.ToolMessage]]}, partial_variables={'messages': []}, messages=[SystemMessagePromptTemplate(prompt=PromptTemplate(input_variables=['helper_response'], template='You are a personal assistant that is helpful.\\n\\n{helper_response}')), MessagesPlaceholder(variable_name='messages', optional=True), HumanMessagePromptTemplate(prompt=PromptTemplate(input_variables=['input'], template='{input}'))])\n",
      "                 | ChatGroq(client=<groq.resources.chat.completions.Completions object at 0x7eb40a02b050>, async_client=<groq.resources.chat.completions.AsyncCompletions object at 0x7eb40a023050>, model_name='gemma-7b-it', groq_api_key=SecretStr('**********'))\n",
      "                 | StrOutputParser(),\n",
      "  layer_agent_3: RunnablePassthrough()\n",
      "                 | ChatPromptTemplate(input_variables=['helper_response', 'input'], optional_variables=['messages'], input_types={'messages': typing.List[typing.Union[langchain_core.messages.ai.AIMessage, langchain_core.messages.human.HumanMessage, langchain_core.messages.chat.ChatMessage, langchain_core.messages.system.SystemMessage, langchain_core.messages.function.FunctionMessage, langchain_core.messages.tool.ToolMessage]]}, partial_variables={'messages': []}, messages=[SystemMessagePromptTemplate(prompt=PromptTemplate(input_variables=['helper_response'], template='You are a personal assistant that is helpful.\\n\\n{helper_response}')), MessagesPlaceholder(variable_name='messages', optional=True), HumanMessagePromptTemplate(prompt=PromptTemplate(input_variables=['input'], template='{input}'))])\n",
      "                 | ChatGroq(client=<groq.resources.chat.completions.Completions object at 0x7eb40a1e15d0>, async_client=<groq.resources.chat.completions.AsyncCompletions object at 0x7eb40a522c10>, groq_api_key=SecretStr('**********'))\n",
      "                 | StrOutputParser()\n",
      "} last=RunnableLambda(concat_response)\n"
     ]
    }
   ],
   "source": [
    "print(chain)"
   ]
  }
 ],
 "metadata": {
  "kernelspec": {
   "display_name": "venv",
   "language": "python",
   "name": "python3"
  },
  "language_info": {
   "codemirror_mode": {
    "name": "ipython",
    "version": 3
   },
   "file_extension": ".py",
   "mimetype": "text/x-python",
   "name": "python",
   "nbconvert_exporter": "python",
   "pygments_lexer": "ipython3",
   "version": "3.11.5"
  }
 },
 "nbformat": 4,
 "nbformat_minor": 2
}
